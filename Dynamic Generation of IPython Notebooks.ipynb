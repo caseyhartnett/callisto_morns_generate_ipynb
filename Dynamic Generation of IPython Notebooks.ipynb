{
 "cells": [
  {
   "cell_type": "markdown",
   "metadata": {
    "slideshow": {
     "slide_type": "slide"
    }
   },
   "source": [
    "# Generation of IPython Notebooks\n",
    "\n",
    "Casey Hartnett\n",
    "\n",
    " - M.S. Mathematical Statistics\n",
    "\n",
    " - Statistical Analyst II at Cvent\n",
    "\n",
    " - caseyhartnett@gmail.com\n",
    "\n",
    " - https://github.com/caseyhartnett/callisto_morns_generate_ipynb"
   ]
  },
  {
   "cell_type": "markdown",
   "metadata": {
    "slideshow": {
     "slide_type": "slide"
    }
   },
   "source": [
    "# What is an IPython Noteboook?"
   ]
  },
  {
   "cell_type": "code",
   "execution_count": 30,
   "metadata": {
    "slideshow": {
     "slide_type": "fragment"
    }
   },
   "outputs": [
    {
     "name": "stdout",
     "output_type": "stream",
     "text": [
      "{\n",
      " \"cells\": [\n",
      "  {\n",
      "   \"cell_type\": \"code\",\n",
      "   \"execution_count\": 14,\n",
      "   \"metadata\": {},\n",
      "   \"outputs\": [],\n",
      "   \"source\": [\n",
      "    \"# import needed libraries \\n\",\n",
      "    \"import matplotlib\\n\",\n",
      "    \"import matplotlib.pyplot as plt\\n\",\n",
      "    \"import numpy as np\\n\",\n",
      "    \"import pandas as pd\\n\",\n",
      "    \"import seaborn\n"
     ]
    }
   ],
   "source": [
    "with open('hotel_report.ipynb', 'r') as notebook:\n",
    "    data = notebook.read()\n",
    "\n",
    "print(data[0:300])"
   ]
  },
  {
   "cell_type": "markdown",
   "metadata": {
    "slideshow": {
     "slide_type": "fragment"
    }
   },
   "source": [
    "### A .ipynb file is a dictionary saved as a json"
   ]
  },
  {
   "cell_type": "markdown",
   "metadata": {
    "slideshow": {
     "slide_type": "slide"
    }
   },
   "source": [
    "### The ipynb structure\n",
    "\n",
    "To show that a ipynb is a dictionary, let us read the example file into session."
   ]
  },
  {
   "cell_type": "code",
   "execution_count": 2,
   "metadata": {
    "slideshow": {
     "slide_type": "-"
    }
   },
   "outputs": [
    {
     "name": "stdout",
     "output_type": "stream",
     "text": [
      "<class 'dict'>\n"
     ]
    }
   ],
   "source": [
    "import json\n",
    "with open('starting_hotel_report.ipynb') as json_data:\n",
    "    data = json.load(json_data)\n",
    "print(type(data))"
   ]
  },
  {
   "cell_type": "markdown",
   "metadata": {
    "slideshow": {
     "slide_type": "subslide"
    }
   },
   "source": [
    "### ipynb is a dictionary\n",
    "\n",
    "A dictionary with only 4 keys. Furthermore, two are just intgers."
   ]
  },
  {
   "cell_type": "code",
   "execution_count": 3,
   "metadata": {
    "slideshow": {
     "slide_type": "-"
    }
   },
   "outputs": [
    {
     "data": {
      "text/plain": [
       "dict_keys(['metadata', 'cells', 'nbformat', 'nbformat_minor'])"
      ]
     },
     "execution_count": 3,
     "metadata": {},
     "output_type": "execute_result"
    }
   ],
   "source": [
    "data.keys()"
   ]
  },
  {
   "cell_type": "code",
   "execution_count": 4,
   "metadata": {
    "slideshow": {
     "slide_type": "fragment"
    }
   },
   "outputs": [
    {
     "data": {
      "text/plain": [
       "4"
      ]
     },
     "execution_count": 4,
     "metadata": {},
     "output_type": "execute_result"
    }
   ],
   "source": [
    "data['nbformat']"
   ]
  },
  {
   "cell_type": "code",
   "execution_count": 5,
   "metadata": {
    "slideshow": {
     "slide_type": "fragment"
    }
   },
   "outputs": [
    {
     "data": {
      "text/plain": [
       "2"
      ]
     },
     "execution_count": 5,
     "metadata": {},
     "output_type": "execute_result"
    }
   ],
   "source": [
    "data['nbformat_minor']"
   ]
  },
  {
   "cell_type": "markdown",
   "metadata": {
    "slideshow": {
     "slide_type": "subslide"
    }
   },
   "source": [
    "### Metadata\n",
    "\n",
    "Metadata contains just basic information about the session. This can also be customized by adding extra information like authors."
   ]
  },
  {
   "cell_type": "code",
   "execution_count": 6,
   "metadata": {
    "slideshow": {
     "slide_type": "-"
    }
   },
   "outputs": [
    {
     "data": {
      "text/plain": [
       "{'kernelspec': {'display_name': 'Python 3',\n",
       "  'language': 'python',\n",
       "  'name': 'python3'},\n",
       " 'language_info': {'codemirror_mode': {'name': 'ipython', 'version': 3},\n",
       "  'file_extension': '.py',\n",
       "  'mimetype': 'text/x-python',\n",
       "  'name': 'python',\n",
       "  'nbconvert_exporter': 'python',\n",
       "  'pygments_lexer': 'ipython3',\n",
       "  'version': '3.5.1'}}"
      ]
     },
     "execution_count": 6,
     "metadata": {},
     "output_type": "execute_result"
    }
   ],
   "source": [
    "data['metadata']"
   ]
  },
  {
   "cell_type": "markdown",
   "metadata": {
    "slideshow": {
     "slide_type": "subslide"
    }
   },
   "source": [
    "### Cells\n",
    "\n",
    "A few different types exist but they all follow the same general form"
   ]
  },
  {
   "cell_type": "code",
   "execution_count": 7,
   "metadata": {
    "slideshow": {
     "slide_type": "-"
    }
   },
   "outputs": [
    {
     "data": {
      "text/plain": [
       "{'cell_type': 'name',\n",
       " 'metadata': {},\n",
       " 'source': 'single string or [list, of, strings]'}"
      ]
     },
     "execution_count": 7,
     "metadata": {},
     "output_type": "execute_result"
    }
   ],
   "source": [
    "{\n",
    "  \"cell_type\" : \"name\",\n",
    "  \"metadata\" : {},\n",
    "  \"source\" : \"single string or [list, of, strings]\",\n",
    "}"
   ]
  },
  {
   "cell_type": "markdown",
   "metadata": {
    "slideshow": {
     "slide_type": "subslide"
    }
   },
   "source": [
    "#### Markdown Cell\n",
    "\n",
    "Below is the general format"
   ]
  },
  {
   "cell_type": "code",
   "execution_count": 8,
   "metadata": {
    "slideshow": {
     "slide_type": "-"
    }
   },
   "outputs": [
    {
     "data": {
      "text/plain": [
       "{'cell_type': 'markdown', 'metadata': {}, 'source': ['some *markdown*']}"
      ]
     },
     "execution_count": 8,
     "metadata": {},
     "output_type": "execute_result"
    }
   ],
   "source": [
    "{\n",
    "  \"cell_type\" : \"markdown\",\n",
    "  \"metadata\" : {},\n",
    "  \"source\" : [\"some *markdown*\"],\n",
    "}"
   ]
  },
  {
   "cell_type": "markdown",
   "metadata": {
    "slideshow": {
     "slide_type": "subslide"
    }
   },
   "source": [
    "### Code Cell\n",
    "\n",
    "This is the bulk of the ipynb file. All of the code and output is stored in this type of cell."
   ]
  },
  {
   "cell_type": "code",
   "execution_count": 9,
   "metadata": {
    "slideshow": {
     "slide_type": "-"
    }
   },
   "outputs": [
    {
     "data": {
      "text/plain": [
       "{'cell_type': 'code',\n",
       " 'execution_count': 14,\n",
       " 'metadata': {},\n",
       " 'outputs': [],\n",
       " 'source': ['# import needed libraries \\n',\n",
       "  'import matplotlib\\n',\n",
       "  'import matplotlib.pyplot as plt\\n',\n",
       "  'import numpy as np\\n',\n",
       "  'import pandas as pd\\n',\n",
       "  'import seaborn as sns\\n',\n",
       "  '%matplotlib inline']}"
      ]
     },
     "execution_count": 9,
     "metadata": {},
     "output_type": "execute_result"
    }
   ],
   "source": [
    "data['cells'][0]"
   ]
  },
  {
   "cell_type": "markdown",
   "metadata": {
    "slideshow": {
     "slide_type": "subslide"
    }
   },
   "source": [
    "### Code Cell\n",
    "\n",
    "Below is an example of when an output is a picture"
   ]
  },
  {
   "cell_type": "code",
   "execution_count": 10,
   "metadata": {
    "slideshow": {
     "slide_type": "-"
    }
   },
   "outputs": [
    {
     "data": {
      "text/plain": [
       "{'cell_type': 'code',\n",
       " 'execution_count': 72,\n",
       " 'metadata': {},\n",
       " 'outputs': [{'data': {'text/plain': [\"Text(0,0.5,'Room Count')\"]},\n",
       "   'execution_count': 72,\n",
       "   'metadata': {},\n",
       "   'output_type': 'execute_result'},\n",
       "  {'data': {'image/png': 'iVBORw0KGgoAAAANSUhEUgAAAY4AAAEWCAYAAABxMXBSAAAABHNCSVQICAgIfAhkiAAAAAlwSFlz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\\nQ1o2p8R7y/oAAAAASUVORK5CYII=\\n',\n",
       "    'text/plain': ['<matplotlib.figure.Figure at 0x111832f98>']},\n",
       "   'metadata': {},\n",
       "   'output_type': 'display_data'}],\n",
       " 'source': [\"sns.boxplot(data=df, x='sent_month', y='room_night_count')\\n\",\n",
       "  \"plt.title('Boxplot of Room Count by Month')\\n\",\n",
       "  \"plt.xlabel('Sent Month')\\n\",\n",
       "  \"plt.ylabel('Room Count')\"]}"
      ]
     },
     "execution_count": 10,
     "metadata": {},
     "output_type": "execute_result"
    }
   ],
   "source": [
    "data['cells'][8]"
   ]
  },
  {
   "cell_type": "code",
   "execution_count": 11,
   "metadata": {
    "slideshow": {
     "slide_type": "skip"
    }
   },
   "outputs": [],
   "source": [
    "import matplotlib\n",
    "import matplotlib.pyplot as plt\n",
    "import numpy as np\n",
    "import pandas as pd\n",
    "import seaborn as sns\n",
    "%matplotlib inline\n",
    "\n",
    "# collect data\n",
    "df = pd.read_csv('callisto_example_data.csv')"
   ]
  },
  {
   "cell_type": "markdown",
   "metadata": {
    "slideshow": {
     "slide_type": "slide"
    }
   },
   "source": [
    "## Basic Plots\n",
    "\n",
    "We start with a basic histogram for one of the hotels in the provided data set."
   ]
  },
  {
   "cell_type": "code",
   "execution_count": 12,
   "metadata": {
    "slideshow": {
     "slide_type": "fragment"
    }
   },
   "outputs": [
    {
     "data": {
      "text/plain": [
       "Text(0,0.5,'Count')"
      ]
     },
     "execution_count": 12,
     "metadata": {},
     "output_type": "execute_result"
    },
    {
     "data": {
      "image/png": "[encoded data removed]",
      "text/plain": [
       "<matplotlib.figure.Figure at 0x1121165c0>"
      ]
     },
     "metadata": {},
     "output_type": "display_data"
    }
   ],
   "source": [
    "plt.hist(df[df.hotel == 'hotel_a'].room_night_count, bins=20, color='#009ddc')\n",
    "plt.title('Historgram of Room Count')\n",
    "plt.xlabel('Room Count')\n",
    "plt.ylabel('Count')"
   ]
  },
  {
   "cell_type": "markdown",
   "metadata": {
    "slideshow": {
     "slide_type": "subslide"
    }
   },
   "source": [
    "## Multiple Plots\n",
    "\n",
    "What if we want to do this for multiple hotels?"
   ]
  },
  {
   "cell_type": "code",
   "execution_count": 13,
   "metadata": {
    "slideshow": {
     "slide_type": "-"
    }
   },
   "outputs": [
    {
     "data": {
      "image/png": "[encoded data removed]",
      "text/plain": [
       "<matplotlib.figure.Figure at 0x10bb934a8>"
      ]
     },
     "metadata": {},
     "output_type": "display_data"
    },
    {
     "data": {
      "image/png": "[encoded data removed]",
      "text/plain": [
       "<matplotlib.figure.Figure at 0x1121f0f60>"
      ]
     },
     "metadata": {},
     "output_type": "display_data"
    },
    {
     "data": {
      "image/png": "[encoded data removed]",
      "text/plain": [
       "<matplotlib.figure.Figure at 0x11213de80>"
      ]
     },
     "metadata": {},
     "output_type": "display_data"
    },
    {
     "data": {
      "image/png": "[encoded data removed]",
      "text/plain": [
       "<matplotlib.figure.Figure at 0x1122be438>"
      ]
     },
     "metadata": {},
     "output_type": "display_data"
    },
    {
     "data": {
      "image/png": "[encoded data removed]",
      "text/plain": [
       "<matplotlib.figure.Figure at 0x11230ca58>"
      ]
     },
     "metadata": {},
     "output_type": "display_data"
    }
   ],
   "source": [
    "for hotel in df.hotel.unique():\n",
    "    plt.hist(df[df.hotel == hotel].room_night_count, bins=20, color='#009ddc')\n",
    "    plt.title('Historgram for %s of Room Count' % hotel)\n",
    "    plt.xlabel('Room Count')\n",
    "    plt.ylabel('Count')\n",
    "    plt.show()"
   ]
  },
  {
   "cell_type": "markdown",
   "metadata": {
    "slideshow": {
     "slide_type": "subslide"
    }
   },
   "source": [
    "## Multiple Plots\n",
    "\n",
    "What if we want to do this for multiple hotels?"
   ]
  },
  {
   "cell_type": "code",
   "execution_count": 14,
   "metadata": {
    "slideshow": {
     "slide_type": "-"
    }
   },
   "outputs": [
    {
     "data": {
      "image/png": "[encoded data removed]",
      "text/plain": [
       "<matplotlib.figure.Figure at 0x10d4927b8>"
      ]
     },
     "metadata": {},
     "output_type": "display_data"
    }
   ],
   "source": [
    "g = sns.FacetGrid(df, col='hotel', sharex=False, sharey=False)\n",
    "g = g.map(plt.hist, 'room_night_count', bins=20, color='#009ddc').set_axis_labels(\"Room Count\", \"Count\")"
   ]
  },
  {
   "cell_type": "markdown",
   "metadata": {
    "slideshow": {
     "slide_type": "slide"
    }
   },
   "source": [
    "## Basis for Generating Notebooks\n",
    "\n",
    "The above works in some situations. But, has some drawbacks that generating notebooks could resolve.\n",
    "\n",
    "We will utalize the features of the nbformat package to create notebooks, edit them and save them."
   ]
  },
  {
   "cell_type": "code",
   "execution_count": 15,
   "metadata": {},
   "outputs": [],
   "source": [
    "import nbformat as nbf"
   ]
  },
  {
   "cell_type": "markdown",
   "metadata": {},
   "source": [
    "- [`nbf.v4`](https://ipython.org/ipython-doc/3/api/generated/IPython.nbformat.v4.html) is the main api for the 4th version of jupyter notebooks\n",
    "\n",
    "- `nbf.v4.new_notebook()` a function that will generate the underlying structure of a notebook. It returns a class [`nbformat.notebooknode.NotebookNode`](http://nbformat.readthedocs.io/en/latest/api.html#notebooknode-objects)\n",
    "\n",
    "- `nbf.v4.new_markdown_cell` a function to create a markdown cell\n",
    "\n",
    "- `nbf.v4.new_code_cell` a function to create a code cell\n"
   ]
  },
  {
   "cell_type": "markdown",
   "metadata": {
    "slideshow": {
     "slide_type": "subslide"
    }
   },
   "source": [
    "### Generate Plot Sequentially in Seperate Cells\n",
    "\n",
    "The following code takes the simple plots we did above and creates a single .ipynb file with the repeated code in different cells."
   ]
  },
  {
   "cell_type": "code",
   "execution_count": 16,
   "metadata": {},
   "outputs": [],
   "source": [
    "nb = nbf.v4.new_notebook()\n",
    "\n",
    "start = '''\\\n",
    "import matplotlib\n",
    "import matplotlib.pyplot as plt\n",
    "import numpy as np\n",
    "import pandas as pd\n",
    "import seaborn as sns\n",
    "%matplotlib inline\n",
    "\n",
    "# collect data\n",
    "df = pd.read_csv('callisto_example_data.csv')'''\n",
    "\n",
    "code_to_repeat = '''\\\n",
    "plt.hist(df[df.hotel == '%s'].room_night_count, bins=20, color='#009ddc')\n",
    "plt.title('Historgram of Room Count')\n",
    "plt.xlabel('Room Count')\n",
    "plt.ylabel('Count')'''\n",
    "\n",
    "# nb.cells is a list that we just append to to create cells\n",
    "nb.cells.append(nbf.v4.new_markdown_cell('# This is a generated notebook'))\n",
    "nb.cells.append(nbf.v4.new_code_cell(start))\n",
    "for hotel in df.hotel.unique():\n",
    "    nb.cells.append(nbf.v4.new_markdown_cell('This is for %s' % hotel))\n",
    "    nb.cells.append(nbf.v4.new_code_cell(code_to_repeat % hotel))\n",
    "\n",
    "with open('example_from_presentation.ipynb', 'wt') as f:\n",
    "    nbf.write(nb, f)"
   ]
  },
  {
   "cell_type": "markdown",
   "metadata": {
    "slideshow": {
     "slide_type": "fragment"
    }
   },
   "source": [
    "['Now open'](http://localhost:8889/notebooks/example_from_presentation.ipynb)"
   ]
  },
  {
   "cell_type": "markdown",
   "metadata": {
    "slideshow": {
     "slide_type": "subslide"
    }
   },
   "source": [
    "### Generate Plot in Seperate Notebooks\n",
    "\n",
    "Now we will instead generate individual notebook files in a folder. This is just an slight change in the arrangement of the for loop."
   ]
  },
  {
   "cell_type": "code",
   "execution_count": 17,
   "metadata": {
    "slideshow": {
     "slide_type": "-"
    }
   },
   "outputs": [],
   "source": [
    "for hotel in df.hotel.unique():\n",
    "    nb = nbf.v4.new_notebook()\n",
    "    # nb.cells is a list that we just append to to create cells\n",
    "    nb.cells.append(nbf.v4.new_markdown_cell('# This is a generated notebook'))\n",
    "    nb.cells.append(nbf.v4.new_code_cell(start))\n",
    "    nb.cells.append(nbf.v4.new_markdown_cell('This is for %s' % hotel))\n",
    "    nb.cells.append(nbf.v4.new_code_cell(code_to_repeat % hotel))\n",
    "    filename = 'individual_reports/plots_for_%s.ipynb' % hotel\n",
    "    with open(filename, 'wt') as f:\n",
    "        nbf.write(nb, f)\n"
   ]
  },
  {
   "cell_type": "markdown",
   "metadata": {
    "slideshow": {
     "slide_type": "fragment"
    }
   },
   "source": [
    "['Now open'](http://localhost:8889/notebooks/individual_reports/plots_for_hotel_a.ipynb)"
   ]
  },
  {
   "cell_type": "markdown",
   "metadata": {
    "slideshow": {
     "slide_type": "slide"
    }
   },
   "source": [
    "## Executing the ipynb files\n",
    "\n",
    "All we have done is save the basis of the file. None of the code has been executed at this point. The following code will execute the notebook and save it inplace. \n",
    "\n",
    "`jupyter nbconvert --execute --to notebook --inplace example_from_presentation.ipynb`\n",
    "\n",
    "For the multiple files, I run the following code to generate the lines needed to run. I am sure someone here can bring up a better solution!"
   ]
  },
  {
   "cell_type": "code",
   "execution_count": 18,
   "metadata": {},
   "outputs": [
    {
     "name": "stdout",
     "output_type": "stream",
     "text": [
      "jupyter nbconvert --execute --to notebook --inplace ndividual_reports/plots_for_hotel_c.ipynb\n",
      "jupyter nbconvert --execute --to notebook --inplace ndividual_reports/plots_for_hotel_d.ipynb\n",
      "jupyter nbconvert --execute --to notebook --inplace ndividual_reports/plots_for_hotel_a.ipynb\n",
      "jupyter nbconvert --execute --to notebook --inplace ndividual_reports/plots_for_hotel_e.ipynb\n",
      "jupyter nbconvert --execute --to notebook --inplace ndividual_reports/plots_for_hotel_f.ipynb\n"
     ]
    }
   ],
   "source": [
    "for hotel in df.hotel.unique():\n",
    "    print('jupyter nbconvert --execute --to notebook --inplace ndividual_reports/plots_for_%s.ipynb' % hotel)"
   ]
  },
  {
   "cell_type": "markdown",
   "metadata": {
    "slideshow": {
     "slide_type": "slide"
    }
   },
   "source": [
    "# Some of the used packages\n",
    "---\n",
    "\n",
    "[nbformat](https://nbformat.readthedocs.io/en/latest/)\n",
    "\n",
    "[nbconvert](https://nbconvert.readthedocs.io/en/latest/)\n",
    "\n",
    "[pandas](http://pandas.pydata.org/)\n",
    "\n",
    "[NumPy](http://www.numpy.org/)\n",
    "\n",
    "[Matplotlib](https://matplotlib.org/)\n",
    "\n",
    "[seaborn](https://seaborn.pydata.org/)"
   ]
  },
  {
   "cell_type": "markdown",
   "metadata": {
    "slideshow": {
     "slide_type": "subslide"
    }
   },
   "source": [
    "### How I made this presentation\n",
    "[MORE IPYTHON!](http://www.damian.oquanta.info/posts/make-your-slides-with-ipython.html)\n",
    "\n",
    "---\n",
    "### For more polished documents\n",
    "\n",
    "[knitr](https://yihui.name/knitr/) - Designed for R but can run any language\n",
    "\n",
    "[knitpy](https://pypi.python.org/pypi/knitpy/0.1.0) - ported python version of knitr\n",
    "    - Not sure what is a better choice. knitr is much much older\n",
    "    - Allows the creation of Microsoft Word Documents\n",
    "\n",
    "---\n",
    "### For dashboards and interactive ploting\n",
    "\n",
    "[Dash](https://plot.ly/products/dash/) - Think RShiny for python\n",
    "\n",
    "[ipywidgets](https://github.com/jupyter-widgets/ipywidgets) - This can work... but most of my use cases would not allow this to work with a nbviewer only a live notebook.\n"
   ]
  },
  {
   "cell_type": "markdown",
   "metadata": {
    "slideshow": {
     "slide_type": "slide"
    }
   },
   "source": [
    "# Thank You\n",
    "\n",
    "- Project Jupyter\n",
    "- Entire SciPy Foundation\n",
    "- Atlanta Jupyter User Group"
   ]
  },
  {
   "cell_type": "markdown",
   "metadata": {
    "slideshow": {
     "slide_type": "subslide"
    }
   },
   "source": [
    "# Questions?\n",
    "\n",
    "Casey Hartnett\n",
    "\n",
    "caseyhartnett@gmail.com\n",
    "\n",
    "https://github.com/caseyhartnett/callisto_morns_generate_ipynb\n",
    "\n",
    "<img src=\"files/fish.gif\">"
   ]
  },
  {
   "cell_type": "code",
   "execution_count": null,
   "metadata": {},
   "outputs": [],
   "source": []
  }
 ],
 "metadata": {
  "celltoolbar": "Slideshow",
  "kernelspec": {
   "display_name": "Python 3",
   "language": "python",
   "name": "python3"
  },
  "language_info": {
   "codemirror_mode": {
    "name": "ipython",
    "version": 3
   },
   "file_extension": ".py",
   "mimetype": "text/x-python",
   "name": "python",
   "nbconvert_exporter": "python",
   "pygments_lexer": "ipython3",
   "version": "3.5.1"
  }
 },
 "nbformat": 4,
 "nbformat_minor": 2
}
